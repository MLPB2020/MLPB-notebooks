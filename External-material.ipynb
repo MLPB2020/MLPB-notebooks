{
 "cells": [
  {
   "cell_type": "markdown",
   "metadata": {},
   "source": [
    "## Conda"
   ]
  },
  {
   "cell_type": "markdown",
   "metadata": {},
   "source": [
    "- [Conda cheat sheet](https://docs.conda.io/projects/conda/en/latest/user-guide/cheatsheet.html): Conda commands overview.\n",
    "- [Conda concepts](https://docs.conda.io/projects/conda/en/latest/user-guide/concepts/index.html): Concepts such as package, channel, environment explained."
   ]
  },
  {
   "cell_type": "markdown",
   "metadata": {},
   "source": [
    "## Git"
   ]
  },
  {
   "cell_type": "markdown",
   "metadata": {},
   "source": [
    "- [Git cheat sheet](https://www.atlassian.com/git/tutorials/atlassian-git-cheatsheet): Summary of git commands."
   ]
  },
  {
   "cell_type": "markdown",
   "metadata": {},
   "source": [
    "## JupyterLab"
   ]
  },
  {
   "cell_type": "markdown",
   "metadata": {},
   "source": [
    "- [JupyterLab Interface](https://jupyterlab.readthedocs.io/en/stable/user/interface.html): Documentation of the JupyterLab interface\n",
    "- [JupyterLab Demonstration Video](https://www.youtube.com/watch?v=ctOM-Gza04Y): video demonstration of JupyterLab capabilities"
   ]
  },
  {
   "cell_type": "markdown",
   "metadata": {},
   "source": [
    "## Markdown"
   ]
  },
  {
   "cell_type": "markdown",
   "metadata": {},
   "source": [
    "- [Markdown](https://github.com/adam-p/markdown-here/wiki/Markdown-Cheatsheet#images): a cheatsheet for writing Markdown files"
   ]
  },
  {
   "cell_type": "markdown",
   "metadata": {},
   "source": [
    "## Python"
   ]
  },
  {
   "cell_type": "markdown",
   "metadata": {},
   "source": [
    "- [Python crash-course](https://learning.oreilly.com/library/view/data-science-from/9781492041122/ch02.html#python): Python crash course from Data Science from Scratch"
   ]
  },
  {
   "cell_type": "code",
   "execution_count": null,
   "metadata": {},
   "outputs": [],
   "source": []
  }
 ],
 "metadata": {
  "kernelspec": {
   "display_name": "Python 3",
   "language": "python",
   "name": "python3"
  },
  "language_info": {
   "codemirror_mode": {
    "name": "ipython",
    "version": 3
   },
   "file_extension": ".py",
   "mimetype": "text/x-python",
   "name": "python",
   "nbconvert_exporter": "python",
   "pygments_lexer": "ipython3",
   "version": "3.8.2"
  }
 },
 "nbformat": 4,
 "nbformat_minor": 4
}
